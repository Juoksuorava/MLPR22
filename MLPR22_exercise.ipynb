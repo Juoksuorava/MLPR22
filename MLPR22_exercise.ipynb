{
 "cells": [
  {
   "cell_type": "markdown",
   "metadata": {},
   "source": [
    "TKO_3120 Machine Learning and Pattern Recognition\n",
    "\n",
    "Image recognition exercise\n",
    "\n",
    "Your name <br>\n",
    "Your e-mail\n",
    "\n",
    "February 2022"
   ]
  },
  {
   "cell_type": "markdown",
   "metadata": {},
   "source": [
    "---"
   ]
  },
  {
   "cell_type": "markdown",
   "metadata": {},
   "source": [
    "\n",
    "This is the template for the image recognition exercise. <Br>\n",
    "Some **general instructions**:\n",
    " - write a clear *report*, understandable for an unspecialized reader: define shortly the concepts and explain the phases you use\n",
    "    - use the Markdown feature of the notebook for larger explanations\n",
    " - return your output as a working Jupyter notebook\n",
    " - name your file as MLPR22_exercise_your_surname.ipynb\n",
    " - write easily readable code with comments     \n",
    "     - if you exploit some code from web, provide a reference\n",
    "     - avoid redundant code! Exploit the relevant parts and modify the code for your purposes to produce only what you need \n",
    " - it is ok to discuss with a friend about the assignment. But it is not ok to copy someone's work. Everyone should submit their own implementation"
   ]
  },
  {
   "cell_type": "markdown",
   "metadata": {},
   "source": [
    "**Deadline 21st of March at 23:59**\n",
    "- No extension granted, unless you have an extremely justified reason. In such case, ask for extension well in advance!\n",
    "- Start now, do not leave it to the last minute. This exercise will need some labour!\n",
    "- If you encounter problems, Google first and if you can’t find an answer, ask for help\n",
    "    - pekavir@utu.fi"
   ]
  },
  {
   "cell_type": "markdown",
   "metadata": {},
   "source": [
    "**Grading**\n",
    "\n",
    "The exercise covers a part of the grading in this course. The course exam has 5 questions, 6 points of each. Exercise gives 4 points, i.e. the total score is 34 points.\n",
    "\n",
    "From the template below, you can see how many exercise points can be acquired from each task. Exam points are given according to the table below: <br>\n",
    "<br>\n",
    "7-8 exercise points: 1 point <br>\n",
    "9-10 exercise points: 2 points <br>\n",
    "11-12 exercise points: 3 points <br>\n",
    "13-14 exercise points: 4 points <br>\n",
    "<br>\n",
    "To pass the exercise, you need at least 7 exercise points, distributed somewhat evenly into tasks (you can't just implement Introduction, Data preparation and Feature extraction and leave the left undone!) <Br>        "
   ]
  },
  {
   "cell_type": "markdown",
   "metadata": {},
   "source": [
    "## Introduction"
   ]
  },
  {
   "cell_type": "markdown",
   "metadata": {},
   "source": [
    "<s>Write an introductory chapter for your report **(1 p)**\n",
    "<br>E.g.\n",
    "- What is the purpose of this task?\n",
    "- What kind of data were used? Where did it originate?\n",
    "- Which methods did you use?</s>"
   ]
  },
  {
   "cell_type": "markdown",
   "metadata": {},
   "source": [
    "The purpose of this task is to train a machine learning algorithm to identify and classify whether an image is depicting trees, pebbles, or a sky.\n",
    "\n",
    "- To train our algorithms, images of the aforementioned depictions as data was fed to them.\n",
    "- The images are in RGB format and they are of many different sizes.\n",
    "- The images were gathered from https://unsplash.com/."
   ]
  },
  {
   "cell_type": "markdown",
   "metadata": {},
   "source": [
    "- To prepare our dataset, the images were resized to the half of the average dimensions of all images.\n",
    "- After that grayscaled and quantized versions of the images were prepared for richer feature extraction.\n",
    "- After modifying the images, the dataset size was increased by creating flipped copies of the grayscaled and coloured images.\n",
    "- Finally we had our default and flipped resized-grayscaled-quantized images and default and flipped resized images."
   ]
  },
  {
   "cell_type": "markdown",
   "metadata": {},
   "source": [
    "- From our coloured images, means and variances of all three RGB-channels were extracted.\n",
    "- From our grayscaled images we created Gray-Level-Co-Occurence matrices and extracted correlations from them as features.\n",
    "- Also from our grayscaled images we created Gray-Level-Run-Length matrices and extracted Short-Run Emphasis (SRE(, Long-run Emphasis (LRE) and Run Percentage (RP) from them as features"
   ]
  },
  {
   "cell_type": "markdown",
   "metadata": {},
   "source": [
    "- Machine learning classification algorithms used were K-Nearest Neighbour (kNN), Ridge Regression (RR) and Multi-Level-Perceptron (MLP)\n",
    "- Heavy reliance on scikit-learn package for Python\n",
    "- More about the results of our classification at the end of this notebook"
   ]
  },
  {
   "cell_type": "markdown",
   "metadata": {},
   "source": [
    "## Data preparation"
   ]
  },
  {
   "cell_type": "markdown",
   "metadata": {},
   "source": [
    "<s>Perform preparations for the data **(3 p)**\n",
    "- import all the packages needed for this notebook in one cell\n",
    "- read the URL:s from the text files and import the images\n",
    "- crop and/or resize the images into same size\n",
    "- for GLCM and GLRLM, change the images into grayscale and reduce the quantization level to 8 levels\n",
    "- make data augmentation: flip each image horizontally to increase the number of examples in the data</s>"
   ]
  },
  {
   "cell_type": "code",
   "execution_count": 61,
   "metadata": {},
   "outputs": [],
   "source": [
    "# gather all packages needed here\n",
    "import numpy as np\n",
    "from itertools import groupby\n",
    "import matplotlib.pyplot as plt\n",
    "from skimage import io\n",
    "from skimage.transform import resize\n",
    "from skimage.color import rgb2gray\n",
    "from skimage.feature import graycomatrix\n",
    "from skimage.feature import graycoprops\n",
    "from tqdm import tqdm\n",
    "from sklearn.model_selection import LeaveOneGroupOut\n",
    "from sklearn.model_selection import GroupKFold\n",
    "from sklearn.linear_model import RidgeClassifier\n",
    "from sklearn.neighbors import KNeighborsClassifier\n",
    "from sklearn import metrics\n",
    "from sklearn.preprocessing import StandardScaler\n",
    "from sklearn.decomposition import PCA\n",
    "import seaborn as sns\n",
    "from sklearn.neural_network import MLPClassifier"
   ]
  },
  {
   "cell_type": "code",
   "execution_count": 62,
   "metadata": {},
   "outputs": [],
   "source": [
    "# read urls\n",
    "\n",
    "urls_trees = np.loadtxt('data/trees.txt', dtype='U150')\n",
    "urls_pebbles = np.loadtxt('data/pebbles.txt', dtype='U150')\n",
    "urls_sky = np.loadtxt('data/sky.txt', dtype='U150')"
   ]
  },
  {
   "cell_type": "code",
   "execution_count": 63,
   "metadata": {},
   "outputs": [
    {
     "name": "stderr",
     "output_type": "stream",
     "text": [
      "100%|██████████| 60/60 [00:16<00:00,  3.64it/s]\n",
      "100%|██████████| 60/60 [00:13<00:00,  4.37it/s]\n",
      "100%|██████████| 60/60 [00:12<00:00,  4.64it/s]\n"
     ]
    }
   ],
   "source": [
    "# import images\n",
    "\n",
    "def load_images(data):\n",
    "    img_data = []\n",
    "    for img in tqdm(data):\n",
    "        temp_img = io.imread(img)\n",
    "        img_data.append(temp_img)\n",
    "    return img_data\n",
    "\n",
    "trees_data = load_images(urls_trees)\n",
    "pebbles_data = load_images(urls_pebbles)\n",
    "sky_data = load_images(urls_sky)"
   ]
  },
  {
   "cell_type": "code",
   "execution_count": 64,
   "metadata": {},
   "outputs": [
    {
     "name": "stderr",
     "output_type": "stream",
     "text": [
      "100%|██████████| 60/60 [00:00<00:00, 60509.31it/s]\n",
      "100%|██████████| 60/60 [00:00<00:00, 120873.31it/s]\n",
      "100%|██████████| 60/60 [00:00<?, ?it/s]\n"
     ]
    }
   ],
   "source": [
    "# extract dimensions for resizing\n",
    "\n",
    "def extract_dimension(data):\n",
    "    rows = []\n",
    "    columns = []\n",
    "    for img in tqdm(data):\n",
    "        rows.append(len(img))\n",
    "        columns.append(len(img[0]))\n",
    "    return rows, columns\n",
    "\n",
    "trees_x, trees_y = extract_dimension(trees_data)\n",
    "pebbles_x, pebbles_y = extract_dimension(pebbles_data)\n",
    "sky_x, sky_y = extract_dimension(sky_data)\n",
    "\n",
    "x_dimensions = trees_x + pebbles_x + sky_x\n",
    "y_dimensions = trees_y + pebbles_y + sky_y\n",
    "\n",
    "mean_x = np.round(np.mean(x_dimensions) / 2)\n",
    "mean_y = np.round(np.mean(y_dimensions) / 2)"
   ]
  },
  {
   "cell_type": "code",
   "execution_count": 65,
   "metadata": {},
   "outputs": [
    {
     "name": "stderr",
     "output_type": "stream",
     "text": [
      "100%|██████████| 60/60 [00:12<00:00,  4.87it/s]\n",
      "100%|██████████| 60/60 [00:12<00:00,  4.94it/s]\n",
      "100%|██████████| 60/60 [00:11<00:00,  5.02it/s]\n"
     ]
    }
   ],
   "source": [
    "# resize images\n",
    "# these will be used to gather features from rgb-channels\n",
    "\n",
    "def resize_images(data):\n",
    "    resized_images = []\n",
    "    for img in tqdm(data):\n",
    "        resized_images.append(resize(img, (mean_x, mean_y)))\n",
    "    return resized_images\n",
    "\n",
    "resized_trees = resize_images(trees_data)\n",
    "resized_pebbles = resize_images(pebbles_data)\n",
    "resized_sky = resize_images(sky_data)"
   ]
  },
  {
   "cell_type": "code",
   "execution_count": 66,
   "metadata": {},
   "outputs": [
    {
     "name": "stderr",
     "output_type": "stream",
     "text": [
      "100%|██████████| 60/60 [00:00<00:00, 356.84it/s]\n",
      "100%|██████████| 60/60 [00:00<00:00, 300.17it/s]\n",
      "100%|██████████| 60/60 [00:00<00:00, 268.22it/s]\n"
     ]
    }
   ],
   "source": [
    "# grayscale resized images\n",
    "\n",
    "def grayscale_images(data):\n",
    "    grayscaled = []\n",
    "    for img in tqdm(data):\n",
    "        grayscaled.append(rgb2gray(img))\n",
    "    return grayscaled\n",
    "\n",
    "grayscaled_resized_trees = grayscale_images(resized_trees)\n",
    "grayscaled_resized_pebbles = grayscale_images(resized_pebbles)\n",
    "grayscaled_resized_sky = grayscale_images(resized_sky)"
   ]
  },
  {
   "cell_type": "code",
   "execution_count": 67,
   "metadata": {},
   "outputs": [
    {
     "name": "stderr",
     "output_type": "stream",
     "text": [
      "100%|██████████| 60/60 [00:01<00:00, 36.13it/s]\n",
      "100%|██████████| 60/60 [00:01<00:00, 43.73it/s]\n",
      "100%|██████████| 60/60 [00:01<00:00, 45.86it/s]\n"
     ]
    }
   ],
   "source": [
    "# quantize grayscaled images\n",
    "\n",
    "def quantize_images(data, q):\n",
    "    quantized_images = []\n",
    "    for img in tqdm(data):\n",
    "        quantized_images.append(np.round(img*(q-1)).astype(int))\n",
    "    return quantized_images\n",
    "\n",
    "quants = 8\n",
    "quantized_trees = quantize_images(grayscaled_resized_trees, quants)\n",
    "quantized_pebbles = quantize_images(grayscaled_resized_pebbles, quants)\n",
    "quantized_sky = quantize_images(grayscaled_resized_sky, quants)"
   ]
  },
  {
   "cell_type": "code",
   "execution_count": 68,
   "metadata": {},
   "outputs": [
    {
     "name": "stderr",
     "output_type": "stream",
     "text": [
      "100%|██████████| 60/60 [00:00<00:00, 10082.87it/s]\n",
      "100%|██████████| 60/60 [00:00<00:00, 120873.31it/s]\n",
      "100%|██████████| 60/60 [00:00<00:00, 60582.15it/s]\n",
      "100%|██████████| 60/60 [00:00<00:00, 121047.73it/s]\n",
      "100%|██████████| 60/60 [00:00<00:00, 40304.01it/s]\n",
      "100%|██████████| 60/60 [00:00<00:00, 120815.29it/s]\n"
     ]
    }
   ],
   "source": [
    "# create flipped images from resized and grayscaled images\n",
    "# also create labels and groups\n",
    "\n",
    "def flip_and_label_images(data, id):\n",
    "    img_id = []\n",
    "    images = []\n",
    "    i = 0\n",
    "    img_labels = []\n",
    "    for img in tqdm(data):\n",
    "        img_labels.append(id)\n",
    "        img_id.append(id + str(i))\n",
    "        images.append(img)\n",
    "        img_labels.append(id)\n",
    "        img_id.append(id + str(i))\n",
    "        images.append(np.flip(img, 1))\n",
    "        i += 1\n",
    "    return images, img_id, img_labels\n",
    "\n",
    "final_trees, trees_id, trees_labels = flip_and_label_images(quantized_trees, 'trees')\n",
    "final_pebbles, pebbles_id, pebbles_labels = flip_and_label_images(quantized_pebbles, 'pebbles')\n",
    "final_sky, sky_id, sky_labels = flip_and_label_images(quantized_sky, 'sky')\n",
    "\n",
    "rgb_trees, rgb_trees_id, rgb_trees_labels = flip_and_label_images(resized_trees, 'trees')\n",
    "rgb_pebbles, rgb_pebbles_id, rgb_pebbles_labels = flip_and_label_images(resized_pebbles, 'pebbles')\n",
    "rgb_sky, rgb_sky_id, rgb_sky_labels = flip_and_label_images(resized_sky, 'sky')"
   ]
  },
  {
   "cell_type": "code",
   "execution_count": 69,
   "metadata": {},
   "outputs": [],
   "source": [
    "# prepare dataset for feature extraction\n",
    "\n",
    "data_gray = final_trees + final_pebbles + final_sky\n",
    "data_rgb = rgb_trees + rgb_pebbles + rgb_sky\n",
    "data_id = trees_id + pebbles_id + sky_id\n",
    "data_labels = trees_labels + pebbles_labels + sky_labels"
   ]
  },
  {
   "cell_type": "markdown",
   "metadata": {},
   "source": [
    "## Feature extraction"
   ]
  },
  {
   "cell_type": "markdown",
   "metadata": {},
   "source": [
    "### First order texture measures (6 features)"
   ]
  },
  {
   "cell_type": "markdown",
   "metadata": {},
   "source": [
    "<s>\n",
    "- Calculate the below mentioned color features for each image **(1 p)**\n",
    "    - Mean for each RGB color channel\n",
    "    - Variance for each RGB color channel\n",
    "</s>"
   ]
  },
  {
   "cell_type": "code",
   "execution_count": 70,
   "metadata": {},
   "outputs": [
    {
     "name": "stderr",
     "output_type": "stream",
     "text": [
      "100%|██████████| 360/360 [00:05<00:00, 60.42it/s]\n"
     ]
    }
   ],
   "source": [
    "# calculate mean and var for each rgb color channels\n",
    "\n",
    "def calc_rgb_means_and_vars(data):\n",
    "    r_means = []\n",
    "    g_means = []\n",
    "    b_means = []\n",
    "    r_vars = []\n",
    "    g_vars = []\n",
    "    b_vars = []\n",
    "    for img in tqdm(data):\n",
    "        r_vars.append(np.var(img[:,:,0]))\n",
    "        r_means.append(np.mean(img[:,:,0]))\n",
    "        g_vars.append(np.var(img[:,:,1]))\n",
    "        g_means.append(np.mean(img[:,:,1]))\n",
    "        b_vars.append(np.var(img[:,:,2]))\n",
    "        b_means.append(np.mean(img[:,:,2]))\n",
    "    return r_means, g_means, b_means, r_vars, g_vars, b_vars\n",
    "\n",
    "# extract features\n",
    "\n",
    "r_means, g_means, b_means, r_vars, g_vars, b_vars = calc_rgb_means_and_vars(data_rgb)\n",
    "\n",
    "# gather features\n",
    "\n",
    "rgb_means_vars = np.transpose(np.array([r_means, g_means, b_means, r_vars, g_vars, b_vars]))"
   ]
  },
  {
   "cell_type": "markdown",
   "metadata": {},
   "source": [
    "### Second order texture measures (10 features)"
   ]
  },
  {
   "cell_type": "markdown",
   "metadata": {},
   "source": [
    "<s>- Gray-Level-Co-Occurrence (GLCM) features (4 features) **(2 p)**\n",
    "    - calculate the \"correlation\" feature using the GLC matrix\n",
    "        - in horizontal and vertical directions for two reference pixel distances (you can choose the distances)\n",
    "    - explain your choice for the distances</s>"
   ]
  },
  {
   "cell_type": "code",
   "execution_count": 71,
   "metadata": {},
   "outputs": [
    {
     "name": "stderr",
     "output_type": "stream",
     "text": [
      "100%|██████████| 360/360 [00:01<00:00, 197.50it/s]\n",
      "100%|██████████| 360/360 [00:00<00:00, 5900.87it/s]\n",
      "100%|██████████| 360/360 [00:00<00:00, 725937.23it/s]\n"
     ]
    }
   ],
   "source": [
    "# create gray-level-co-occurence matrices\n",
    "# distances chosen based on dimensions of resized images\n",
    "# 5 is approximately 1% of image and 25 approximately 5% of image\n",
    "\n",
    "glcm = []\n",
    "distances = [5, 25]\n",
    "\n",
    "for img in tqdm(data_gray):\n",
    "    glcm.append(graycomatrix(img, distances, [0, np.pi/2], 8))\n",
    "\n",
    "# calculate correlations\n",
    "\n",
    "correlations = []\n",
    "\n",
    "for img in tqdm(glcm):\n",
    "    correlations.append(graycoprops(img, 'correlation'))\n",
    "\n",
    "# extract correlations\n",
    "\n",
    "correlations1 = []\n",
    "correlations2 = []\n",
    "correlations3 = []\n",
    "correlations4 = []\n",
    "\n",
    "for cor in tqdm(correlations):\n",
    "    correlations1.append(cor[0,0])\n",
    "    correlations2.append(cor[0,1])\n",
    "    correlations3.append(cor[1,0])\n",
    "    correlations4.append(cor[1,1])\n",
    "\n",
    "correlations_final = np.transpose(np.array([correlations1, correlations2, correlations3, correlations4]))"
   ]
  },
  {
   "cell_type": "markdown",
   "metadata": {},
   "source": [
    "- Gray-Level-Run-Length (GLRL) features (6 features) **(2 p)**\n",
    "    - Calculate the following three features in horizontal and vertical direction\n",
    "        - Use the given function for Gray-Level-Run-Length (GLRL) matrix\n",
    "        - Implement the following run-length features using the GLRL matrix\n",
    "            - Short-Run emphasis\n",
    "            - Long-run emphasis\n",
    "            - Run percentage\n",
    "        - Test your implementation with the given toy image"
   ]
  },
  {
   "cell_type": "code",
   "execution_count": 72,
   "metadata": {},
   "outputs": [],
   "source": [
    "# Grey-Level-Run-Length-Matrix\n",
    "\n",
    "def glrlm(image, levels, angle):\n",
    "    if angle==0: # horizontal        \n",
    "        runs=image.shape[1]\n",
    "        glrl_matrix=np.zeros([levels,runs])\n",
    "\n",
    "        for row in range(0,image.shape[0]):\n",
    "            onerow=image[row,:]\n",
    "            counts=[(i, len(list(g))) for i, g in groupby(onerow)]\n",
    "            for count in counts:\n",
    "                glrl_matrix[count[0],count[1]-1]=glrl_matrix[count[0],count[1]-1]+1\n",
    "\n",
    "    if angle==90: # vertical\n",
    "        runs=image.shape[0]\n",
    "        glrl_matrix=np.zeros([levels,runs])\n",
    "\n",
    "        for column in range(0,image.shape[1]):\n",
    "            onecolumn=image[:,column]\n",
    "            counts=[(i, len(list(g))) for i, g in groupby(onecolumn)]\n",
    "            for count in counts:\n",
    "                glrl_matrix[count[0],count[1]-1]=glrl_matrix[count[0],count[1]-1]+1\n",
    "        \n",
    "    return(glrl_matrix)        "
   ]
  },
  {
   "cell_type": "code",
   "execution_count": 73,
   "metadata": {},
   "outputs": [],
   "source": [
    "# G_m = gray-level-run-length-matrix\n",
    "# Np = the number of pixels in the image\n",
    "def emphasis(G_m, Np):\n",
    "    \n",
    "    SRE_sum = 0\n",
    "    LRE_sum = 0\n",
    "    RP_sum = 0\n",
    "    denominator = 0\n",
    "\n",
    "    N_g = len(G_m)\n",
    "    N_r = len(G_m[0])\n",
    "\n",
    "    for i in range(N_g):\n",
    "        for j in range(N_r):\n",
    "            denominator += G_m[i,j]\n",
    "            SRE_sum += G_m[i,j] / (j+1) ** 2\n",
    "            LRE_sum += G_m[i,j] * (j+1) ** 2\n",
    "            RP_sum += G_m[i,j]\n",
    "\n",
    "    SRE = SRE_sum/denominator\n",
    "    LRE = LRE_sum/denominator\n",
    "    RP = RP_sum/Np\n",
    "    \n",
    "    return(SRE, LRE, RP)"
   ]
  },
  {
   "cell_type": "code",
   "execution_count": 74,
   "metadata": {},
   "outputs": [
    {
     "name": "stdout",
     "output_type": "stream",
     "text": [
      "GLRL matrix for 0 degrees:\n",
      "[[1. 1. 0. 0.]\n",
      " [2. 0. 1. 0.]\n",
      " [2. 1. 0. 0.]]\n",
      "GLRL matrix for 90 degrees:\n",
      "[[1. 1. 0.]\n",
      " [5. 0. 0.]\n",
      " [4. 0. 0.]]\n"
     ]
    }
   ],
   "source": [
    "# test the glrlm function with a toy example 1\n",
    "toy_image=np.array([[1,1,1,2],[2,0,0,1],[1,0,2,2]])\n",
    "\n",
    "toy_GLRLM_0=glrlm(toy_image,3, 0)\n",
    "toy_GLRLM_90=glrlm(toy_image,3, 90)\n",
    "\n",
    "print('GLRL matrix for 0 degrees:')\n",
    "print(toy_GLRLM_0)\n",
    "print('GLRL matrix for 90 degrees:')\n",
    "print(toy_GLRLM_90)"
   ]
  },
  {
   "cell_type": "code",
   "execution_count": 75,
   "metadata": {},
   "outputs": [
    {
     "name": "stdout",
     "output_type": "stream",
     "text": [
      "SRE: 0.701\n",
      "LRE: 2.75\n",
      "RP: 0.667\n"
     ]
    }
   ],
   "source": [
    "# test your emphasis function in 0 direction with toy example 1\n",
    "toy_SRE_0, toy_LRE_0, toy_RP_0=emphasis(toy_GLRLM_0, 12)\n",
    "print('SRE:', np.round(toy_SRE_0, 3))\n",
    "print('LRE:', np.round(toy_LRE_0, 3))\n",
    "print('RP:', np.round(toy_RP_0, 3))"
   ]
  },
  {
   "cell_type": "code",
   "execution_count": 76,
   "metadata": {},
   "outputs": [
    {
     "name": "stdout",
     "output_type": "stream",
     "text": [
      "SRE: 0.932\n",
      "LRE: 1.273\n",
      "RP: 0.917\n"
     ]
    }
   ],
   "source": [
    "# test the emphasis function in 90 direction with toy example 1\n",
    "toy_SRE_90, toy_LRE_90, toy_RP_90=emphasis(toy_GLRLM_90, 12)\n",
    "print('SRE:', np.round(toy_SRE_90, 3))\n",
    "print('LRE:', np.round(toy_LRE_90, 3))\n",
    "print('RP:', np.round(toy_RP_90, 3))"
   ]
  },
  {
   "cell_type": "code",
   "execution_count": 77,
   "metadata": {},
   "outputs": [
    {
     "name": "stdout",
     "output_type": "stream",
     "text": [
      "GLRL matrix for 0 degrees:\n",
      "[[1. 1. 0. 1.]\n",
      " [2. 0. 1. 0.]\n",
      " [2. 1. 0. 0.]]\n",
      "GLRL matrix for 90 degrees:\n",
      "[[4. 0. 1. 0.]\n",
      " [5. 0. 0. 0.]\n",
      " [4. 0. 0. 0.]]\n"
     ]
    }
   ],
   "source": [
    "# test the glrlm function with a toy example 2\n",
    "toy_image=np.array([[1,1,1,2],[2,0,0,1],[1,0,2,2],[0,0,0,0]])\n",
    "\n",
    "toy_GLRLM_0=glrlm(toy_image,3, 0)\n",
    "toy_GLRLM_90=glrlm(toy_image,3, 90)\n",
    "\n",
    "print('GLRL matrix for 0 degrees:')\n",
    "print(toy_GLRLM_0)\n",
    "print('GLRL matrix for 90 degrees:')\n",
    "print(toy_GLRLM_90)"
   ]
  },
  {
   "cell_type": "code",
   "execution_count": 78,
   "metadata": {},
   "outputs": [
    {
     "name": "stdout",
     "output_type": "stream",
     "text": [
      "SRE: 0.63\n",
      "LRE: 4.222\n",
      "RP: 0.562\n"
     ]
    }
   ],
   "source": [
    "# test your emphasis function in 0 direction with toy example 2\n",
    "toy_SRE_0, toy_LRE_0, toy_RP_0=emphasis(toy_GLRLM_0, 16)\n",
    "print('SRE:', np.round(toy_SRE_0, 3))\n",
    "print('LRE:', np.round(toy_LRE_0, 3))\n",
    "print('RP:', np.round(toy_RP_0, 3))"
   ]
  },
  {
   "cell_type": "code",
   "execution_count": 79,
   "metadata": {},
   "outputs": [
    {
     "name": "stdout",
     "output_type": "stream",
     "text": [
      "SRE: 0.937\n",
      "LRE: 1.571\n",
      "RP: 0.875\n"
     ]
    }
   ],
   "source": [
    "# test the emphasis function in 90 direction with toy example 2\n",
    "toy_SRE_90, toy_LRE_90, toy_RP_90=emphasis(toy_GLRLM_90, 16)\n",
    "print('SRE:', np.round(toy_SRE_90, 3))\n",
    "print('LRE:', np.round(toy_LRE_90, 3))\n",
    "print('RP:', np.round(toy_RP_90, 3))"
   ]
  },
  {
   "cell_type": "code",
   "execution_count": 80,
   "metadata": {},
   "outputs": [
    {
     "name": "stderr",
     "output_type": "stream",
     "text": [
      "100%|██████████| 360/360 [01:04<00:00,  5.58it/s]\n"
     ]
    }
   ],
   "source": [
    "# extract glrl features\n",
    "\n",
    "glrl_features = []\n",
    "\n",
    "# loop over\n",
    "for image in tqdm(data_gray):\n",
    "    # two glrl matrices\n",
    "    GLRLM_0 = glrlm(image,quants, 0)\n",
    "    GLRLM_90 = glrlm(image,quants, 90)\n",
    "    # features\n",
    "    SRE_0, LRE_0, RP_0 = emphasis(GLRLM_0, mean_x*mean_y)\n",
    "    SRE_90, LRE_90, RP_90 = emphasis(GLRLM_90, mean_x*mean_y)\n",
    "    # collect\n",
    "    glrl_features.append([SRE_0, LRE_0, RP_0, SRE_90, LRE_90, RP_90])"
   ]
  },
  {
   "cell_type": "markdown",
   "metadata": {},
   "source": [
    "<s>Gather your features into an input array X, and the image classes into an output array y. Assign an image id for each image so that the original and flipped image have the same id. Standardize the feature values in X.</s>"
   ]
  },
  {
   "cell_type": "code",
   "execution_count": 81,
   "metadata": {},
   "outputs": [],
   "source": [
    "# gather features\n",
    "\n",
    "np.array(rgb_means_vars)\n",
    "np.array(correlations_final)\n",
    "np.array(glrl_features)\n",
    "X = np.hstack((rgb_means_vars, correlations_final, glrl_features))\n",
    "y = data_labels\n",
    "groups = data_id"
   ]
  },
  {
   "cell_type": "code",
   "execution_count": 82,
   "metadata": {},
   "outputs": [],
   "source": [
    "# standardization with Z-score\n",
    "sc = StandardScaler()\n",
    "X_norm = np.asarray(sc.fit_transform(X))"
   ]
  },
  {
   "cell_type": "markdown",
   "metadata": {},
   "source": [
    "## Feature relationships"
   ]
  },
  {
   "cell_type": "markdown",
   "metadata": {},
   "source": [
    "<s>Make illustrations of the feature relationships, and discuss the results **(1 p)**\n",
    "- Pairplot \n",
    "    - Which feature pairs possess roughly linear dependence?</s>\n",
    "\n",
    "Based on the results below we can see there are some feature pairs that posses high linear dependence\n",
    "- b_means / g_means\n",
    "- b_vars / g_vars\n",
    "- SRE_90 / SRE_0\n",
    "- RP_90 / RP_0"
   ]
  },
  {
   "cell_type": "code",
   "execution_count": 83,
   "metadata": {},
   "outputs": [
    {
     "data": {
      "text/plain": [
       "<AxesSubplot:>"
      ]
     },
     "execution_count": 83,
     "metadata": {},
     "output_type": "execute_result"
    },
    {
     "data": {
      "image/png": "[encoded data removed]",
      "text/plain": [
       "<Figure size 432x288 with 2 Axes>"
      ]
     },
     "metadata": {
      "needs_background": "light"
     },
     "output_type": "display_data"
    }
   ],
   "source": [
    "feature_correlations = np.corrcoef(np.transpose(X_norm))\n",
    "sns.heatmap(np.abs(feature_correlations))"
   ]
  },
  {
   "cell_type": "code",
   "execution_count": 84,
   "metadata": {},
   "outputs": [
    {
     "name": "stdout",
     "output_type": "stream",
     "text": [
      "[[1, 2], [4, 5], [10, 13], [12, 15]]\n"
     ]
    },
    {
     "data": {
      "image/png": "[encoded data removed]",
      "text/plain": [
       "<Figure size 432x288 with 1 Axes>"
      ]
     },
     "metadata": {
      "needs_background": "light"
     },
     "output_type": "display_data"
    },
    {
     "data": {
      "image/png": "[encoded data removed]",
      "text/plain": [
       "<Figure size 432x288 with 1 Axes>"
      ]
     },
     "metadata": {
      "needs_background": "light"
     },
     "output_type": "display_data"
    },
    {
     "data": {
      "image/png": "[encoded data removed]",
      "text/plain": [
       "<Figure size 432x288 with 1 Axes>"
      ]
     },
     "metadata": {
      "needs_background": "light"
     },
     "output_type": "display_data"
    },
    {
     "data": {
      "image/png": "[encoded data removed]",
      "text/plain": [
       "<Figure size 432x288 with 1 Axes>"
      ]
     },
     "metadata": {
      "needs_background": "light"
     },
     "output_type": "display_data"
    }
   ],
   "source": [
    "linear_dependent = []\n",
    "for f in range(len(feature_correlations)):\n",
    "    for g in range(len(feature_correlations[f])):\n",
    "        if feature_correlations[f][g] > 0.9 and f != g:\n",
    "            if [f,g] in linear_dependent or [g,f] in linear_dependent:\n",
    "                continue\n",
    "            else:\n",
    "                linear_dependent.append([f, g])\n",
    "\n",
    "cdict = {'pebbles': 'gray', 'sky': 'blue', 'trees': 'green'}\n",
    "feature_names = ['r_means', 'g_means', 'b_means', 'r_vars', 'g_vars', 'b_vars', 'cor1hor', 'cor2hor', 'cor3ver', 'cor4ver', 'SRE_0', 'LRE_0', 'RP_0', 'SRE_90', 'LRE_90', 'RP_90']\n",
    "c = [*map(cdict.get, y)]\n",
    "\n",
    "print(linear_dependent)\n",
    "\n",
    "for i in range(len(linear_dependent)):\n",
    "    plt.scatter(X_norm[:, linear_dependent[i][0]], X_norm[:,linear_dependent[i][1]], c = c)\n",
    "    plt.xlabel(feature_names[linear_dependent[i][0]])\n",
    "    plt.ylabel(feature_names[linear_dependent[i][1]])\n",
    "    plt.show()\n",
    "    plt.close()\n"
   ]
  },
  {
   "cell_type": "markdown",
   "metadata": {},
   "source": [
    "\n",
    "<s>- PCA\n",
    "    - Can you see any clusters in PCA?\n",
    "    - Does this figure give you any clues, how well you will be able to classify the image types? Explain. </s>\n"
   ]
  },
  {
   "cell_type": "markdown",
   "metadata": {},
   "source": [
    "Based on the results below we can predict that the results for predicting the sky class will have higher accuracy due it having a clearer cluster on the scatter plot."
   ]
  },
  {
   "cell_type": "code",
   "execution_count": 85,
   "metadata": {},
   "outputs": [
    {
     "data": {
      "image/png": "[encoded data removed]",
      "text/plain": [
       "<Figure size 432x288 with 1 Axes>"
      ]
     },
     "metadata": {
      "needs_background": "light"
     },
     "output_type": "display_data"
    }
   ],
   "source": [
    "pca = PCA(n_components=2)\n",
    "transformed = np.transpose(pca.fit_transform(X_norm))\n",
    "\n",
    "cdict = {'pebbles': 'gray', 'sky': 'blue', 'trees': 'green'}\n",
    "c = [*map(cdict.get, y)]\n",
    "\n",
    "plt.scatter(transformed[0], transformed[1], c = c, label = y)\n",
    "plt.show()"
   ]
  },
  {
   "cell_type": "markdown",
   "metadata": {},
   "source": [
    "## Build the classifiers and estimate their performance"
   ]
  },
  {
   "cell_type": "markdown",
   "metadata": {},
   "source": [
    "Build the classifiers and estimate their perfomance. Use LeaveOneGroupOut or GroupKFold cross validator (image id as group indicator).\n",
    "- k Nearest Neighbors classifier **(1 p)** \n",
    "    - optimize the hyperparameter (k) and select the best model for the classifier\n",
    "    - estimate the performance of the model with nested cross validation\n",
    "    - calculate the accuracy and the confusion matrix\n",
    "\n"
   ]
  },
  {
   "cell_type": "code",
   "execution_count": 86,
   "metadata": {},
   "outputs": [],
   "source": [
    "def find_best_k_and_score(X, y, kSet, groups):\n",
    "\n",
    "    logo = LeaveOneGroupOut()\n",
    "    best_k = kSet[0]\n",
    "    best_acc = 0\n",
    "    acc = []\n",
    "\n",
    "    for k in kSet:\n",
    "        temp_preds = []\n",
    "        temp_tests = []\n",
    "        for train, test in logo.split(X, y, groups = groups):\n",
    "            X_train, X_test = X[train], X[test]\n",
    "            y_train, y_test = y[train], y[test]\n",
    "            kNN = KNeighborsClassifier(n_neighbors = k)\n",
    "            kNN.fit(X_train, y_train)\n",
    "            y_preds = kNN.predict(X_test)\n",
    "            temp_preds.append(y_preds)\n",
    "            temp_tests.append(y_test)\n",
    "        preds = [i for l in temp_preds for i in l]\n",
    "        tests = [i for l in temp_tests for i in l]\n",
    "        acc.append(metrics.accuracy_score(tests, preds))\n",
    "\n",
    "    for i in range(len(acc)):\n",
    "        if acc[i] > best_acc:\n",
    "            best_k = kSet[i]\n",
    "            best_acc = acc[i]\n",
    "    return best_k, best_acc"
   ]
  },
  {
   "cell_type": "code",
   "execution_count": 87,
   "metadata": {},
   "outputs": [],
   "source": [
    "def knn_nlogocv_acc_cf(X, y, groups, n):\n",
    "\n",
    "    gkf = GroupKFold(n_splits = n)\n",
    "    acc = []\n",
    "    cf = []\n",
    "    kSet = [1, 3, 5, 7, 9, 11]\n",
    "\n",
    "    for train, test in tqdm(gkf.split(X, y, groups = groups)):\n",
    "        X_train, X_test = X[train], X[test]\n",
    "        y_train, y_test = np.array(y)[train], np.array(y)[test]\n",
    "        groups_train = np.array(groups)[train]\n",
    "        best_k, best_acc = find_best_k_and_score(X_train, y_train, kSet, groups_train)\n",
    "        kNN = KNeighborsClassifier(n_neighbors = best_k)\n",
    "        kNN.fit(X_train, y_train)\n",
    "        y_preds = kNN.predict(X_test)\n",
    "        acc.append(metrics.accuracy_score(y_test, y_preds))\n",
    "        cf.append(metrics.confusion_matrix(y_test, y_preds))\n",
    "    \n",
    "    mean_acc = np.mean(acc)\n",
    "    mean_cf = np.sum(cf, axis = 0)\n",
    "\n",
    "    return mean_acc, np.round(mean_cf / n).astype(int)"
   ]
  },
  {
   "cell_type": "code",
   "execution_count": 88,
   "metadata": {},
   "outputs": [
    {
     "name": "stderr",
     "output_type": "stream",
     "text": [
      "6it [00:05,  1.02it/s]"
     ]
    },
    {
     "name": "stdout",
     "output_type": "stream",
     "text": [
      "Accuracy for kNN:\n",
      " 0.8277777777777778\n",
      "Confusion matrix for kNN:\n",
      " [[16  1  3]\n",
      " [ 2 18  0]\n",
      " [ 3  2 16]]\n"
     ]
    },
    {
     "name": "stderr",
     "output_type": "stream",
     "text": [
      "\n"
     ]
    }
   ],
   "source": [
    "knn_acc, knn_cf = knn_nlogocv_acc_cf(X_norm, y, groups, 6)\n",
    "print('Accuracy for kNN:\\n', knn_acc)\n",
    "print('Confusion matrix for kNN:\\n', knn_cf)"
   ]
  },
  {
   "cell_type": "markdown",
   "metadata": {},
   "source": [
    "- Regularized linear model with Ridge regression **(1 p)**\n",
    "    - optimize the hyperparameter (alpha) and select the best model for the classifier\n",
    "    - estimate the performance of the model with nested cross validation\n",
    "    - calculate the accuracy and the confusion matrix"
   ]
  },
  {
   "cell_type": "code",
   "execution_count": 89,
   "metadata": {},
   "outputs": [],
   "source": [
    "def find_best_alpha_and_score(X, y, alphaSet, groups):\n",
    "\n",
    "    logo = LeaveOneGroupOut()\n",
    "    best_a = alphaSet[0]\n",
    "    best_acc = 0\n",
    "    acc = []\n",
    "\n",
    "    for a in alphaSet:\n",
    "        temp_ridge_preds = []\n",
    "        temp_ridge_tests = []\n",
    "        for i_train, i_test in logo.split(X, y, groups = groups):\n",
    "            ridge_X_train, ridge_X_test = X[i_train], X[i_test]\n",
    "            ridge_y_train, ridge_y_test = y[i_train], y[i_test]\n",
    "            ridge = RidgeClassifier(alpha = a)\n",
    "            ridge.fit(ridge_X_train, ridge_y_train)\n",
    "            temp_ridge_preds.append(ridge.predict(ridge_X_test))\n",
    "            temp_ridge_tests.append(ridge_y_test)\n",
    "        ridge_preds = [i for l in temp_ridge_preds for i in l]\n",
    "        ridge_tests = [i for l in temp_ridge_tests for i in l]\n",
    "        acc.append(metrics.accuracy_score(ridge_tests, ridge_preds))\n",
    "\n",
    "    for i in range(len(acc)):\n",
    "        if acc[i] > best_acc:\n",
    "            best_a = alphaSet[i]\n",
    "            best_acc = acc[i]\n",
    "    return best_a, best_acc"
   ]
  },
  {
   "cell_type": "code",
   "execution_count": 90,
   "metadata": {},
   "outputs": [],
   "source": [
    "def ridge_nlogocv_acc_cf(X, y, groups, n):\n",
    "\n",
    "    gkf = GroupKFold(n_splits = n)\n",
    "    acc = []\n",
    "    cf = []\n",
    "    alphaSet = np.arange(0, 1, 0.1)\n",
    "\n",
    "    for j_train, j_test in tqdm(gkf.split(X, y, groups = groups)):\n",
    "        ridge_X_train, ridge_X_test = X[j_train], X[j_test]\n",
    "        ridge_y_train, ridge_y_test = np.array(y)[j_train], np.array(y)[j_test]\n",
    "        groups_train =  np.array(groups)[j_train]\n",
    "        best_a, best_acc = find_best_alpha_and_score(ridge_X_train, ridge_y_train, alphaSet, groups_train)\n",
    "        ridge = RidgeClassifier(alpha = best_a)\n",
    "        ridge.fit(ridge_X_train, ridge_y_train)\n",
    "        ridge_y_pred = ridge.predict(ridge_X_test)\n",
    "        acc.append(metrics.accuracy_score(ridge_y_test, ridge_y_pred))\n",
    "        cf.append(metrics.confusion_matrix(ridge_y_test, ridge_y_pred))\n",
    "    \n",
    "    mean_acc = np.mean(acc)\n",
    "    mean_cf = np.sum(cf, axis = 0)\n",
    "\n",
    "    return mean_acc, np.round(mean_cf / n).astype(int)"
   ]
  },
  {
   "cell_type": "code",
   "execution_count": 91,
   "metadata": {},
   "outputs": [
    {
     "name": "stderr",
     "output_type": "stream",
     "text": [
      "6it [00:19,  3.26s/it]"
     ]
    },
    {
     "name": "stdout",
     "output_type": "stream",
     "text": [
      "Accuracy for Ridge regression:\n",
      " 0.8666666666666668\n",
      "Confusion matrix for Ridge regression:\n",
      " [[15  3  3]\n",
      " [ 0 19  0]\n",
      " [ 1  1 18]]\n"
     ]
    },
    {
     "name": "stderr",
     "output_type": "stream",
     "text": [
      "\n"
     ]
    }
   ],
   "source": [
    "ridge_acc, ridge_cf = ridge_nlogocv_acc_cf(X_norm, y, groups, 6)\n",
    "print('Accuracy for Ridge regression:\\n', ridge_acc)\n",
    "print('Confusion matrix for Ridge regression:\\n', ridge_cf)"
   ]
  },
  {
   "cell_type": "markdown",
   "metadata": {},
   "source": [
    "- Multi-layer perceptron MLP **(1 p)**\n",
    "    - build the classifier. Use:\n",
    "        - 1 hidden layer\n",
    "        - solver for weight optimization: stochastic gradient-based optimizer ('adam')\n",
    "        - activation function for the hidden layer: rectified linear unit function ('relu')\n",
    "        - Early stop\n",
    "    - optimize the number of neurons in the hidden layer and select the best model for the classifier\n",
    "    - use Early stop committee, i.e. after selecting the model, calculate the prediction for the test data several times with different sampling of the training data. The members of the committee vote for the predicted class of the test sample. Use 50% of the training data for validation (algorithm terminates the training when validation score is not improving)\n",
    "    - estimate the performance of the classifier with nested cross validation"
   ]
  },
  {
   "cell_type": "code",
   "execution_count": 92,
   "metadata": {},
   "outputs": [],
   "source": [
    "def find_best_n(X, y, nSet, groups):\n",
    "\n",
    "    # logo = LeaveOneGroupOut()\n",
    "    gkf2 = GroupKFold(n_splits = 2)\n",
    "    best_n = nSet[0]\n",
    "    best_acc = 0\n",
    "    acc = []\n",
    "\n",
    "    for n in nSet:\n",
    "        temp_mlp_preds = []\n",
    "        temp_mlp_tests = []\n",
    "        for i_train, i_test in gkf2.split(X, y, groups = groups):\n",
    "            mlp_X_train, mlp_X_test = X[i_train], X[i_test]\n",
    "            mlp_y_train, mlp_y_test = y[i_train], y[i_test]\n",
    "            mlp = MLPClassifier(hidden_layer_sizes = n, activation = 'relu', solver = 'adam', early_stopping = True)\n",
    "            mlp.fit(mlp_X_train, mlp_y_train)\n",
    "            temp_mlp_preds.append(mlp.predict(mlp_X_test))\n",
    "            temp_mlp_tests.append(mlp_y_test)\n",
    "        ridge_preds = [i for l in temp_mlp_preds for i in l]\n",
    "        ridge_tests = [i for l in temp_mlp_tests for i in l]\n",
    "        acc.append(metrics.accuracy_score(ridge_tests, ridge_preds))\n",
    "\n",
    "    for i in range(len(acc)):\n",
    "        if acc[i] > best_acc:\n",
    "            best_n = nSet[i]\n",
    "            best_acc = acc[i]\n",
    "    return best_n, best_acc"
   ]
  },
  {
   "cell_type": "code",
   "execution_count": 93,
   "metadata": {},
   "outputs": [],
   "source": [
    "def mlp_acc_cf(X, y, groups, n):\n",
    "\n",
    "    gkf = GroupKFold(n_splits = n)\n",
    "    acc = []\n",
    "    cf = []\n",
    "    nSet = np.arange(100, 4600, 400)\n",
    "\n",
    "    for j_train, j_test in tqdm(gkf.split(X, y, groups = groups)):\n",
    "        mlp_X_train, mlp_X_test = X[j_train], X[j_test]\n",
    "        mlp_y_train, mlp_y_test = np.array(y)[j_train], np.array(y)[j_test]\n",
    "        groups_train =  np.array(groups)[j_train]\n",
    "        best_n, best_acc = find_best_alpha_and_score(mlp_X_train, mlp_y_train, nSet, groups_train)\n",
    "        mlp = MLPClassifier(hidden_layer_sizes = best_n, activation = 'relu', solver = 'adam', early_stopping = True)\n",
    "        mlp.fit(mlp_X_train, mlp_y_train)\n",
    "        mlp_y_pred = mlp.predict(mlp_X_test)\n",
    "        acc.append(metrics.accuracy_score(mlp_y_test, mlp_y_pred))\n",
    "        cf.append(metrics.confusion_matrix(mlp_y_test, mlp_y_pred))\n",
    "    \n",
    "    mean_acc = np.mean(acc)\n",
    "    mean_cf = np.sum(cf, axis = 0)\n",
    "\n",
    "    return mean_acc, np.round(mean_cf / n).astype(int)"
   ]
  },
  {
   "cell_type": "code",
   "execution_count": 94,
   "metadata": {},
   "outputs": [
    {
     "name": "stderr",
     "output_type": "stream",
     "text": [
      "6it [00:22,  3.81s/it]"
     ]
    },
    {
     "name": "stdout",
     "output_type": "stream",
     "text": [
      "Accuracy for MLPn:\n",
      " 0.7833333333333332\n",
      "Confusion matrix for MLP:\n",
      " [[12  2  6]\n",
      " [ 0 19  1]\n",
      " [ 2  1 16]]\n"
     ]
    },
    {
     "name": "stderr",
     "output_type": "stream",
     "text": [
      "\n"
     ]
    }
   ],
   "source": [
    "mlp_acc, mlp_cf = mlp_acc_cf(X_norm, y, groups, 6)\n",
    "print('Accuracy for MLPn:\\n', mlp_acc)\n",
    "print('Confusion matrix for MLP:\\n', mlp_cf)"
   ]
  },
  {
   "cell_type": "markdown",
   "metadata": {},
   "source": [
    "- Discuss your results **(1 p)**\n",
    "<br>E.g.\n",
    "    - Which model performs the best and why?\n",
    "    - What are the limitations?\n",
    "    - How could the results be improved?\n",
    "    - How do you expect the models will perform with unseen data?"
   ]
  },
  {
   "cell_type": "markdown",
   "metadata": {},
   "source": [
    "Ridge regression model performs the best although not by a huge margin. It performs the best because it is a very efficient model whilst being simple so it is well suited for this task.\n",
    "\n",
    "The limitations for this task are the increasing performance time when wanting to classify more different imagetypes. The data needs to be more detailed after preparation and this can lead to exponentially growing impact on performance time.\n",
    "\n",
    "The results could be improved for example by optimizing the GLCM parameters.\n",
    "\n",
    "Nested cross-validation has been used to predict how the models would perform with unseen data, so I think they would perform quite well. The problems arrive if we try to use different images with lower details and/or hugely differing dimensions."
   ]
  }
 ],
 "metadata": {
  "kernelspec": {
   "display_name": "Python 3 (ipykernel)",
   "language": "python",
   "name": "python3"
  },
  "language_info": {
   "codemirror_mode": {
    "name": "ipython",
    "version": 3
   },
   "file_extension": ".py",
   "mimetype": "text/x-python",
   "name": "python",
   "nbconvert_exporter": "python",
   "pygments_lexer": "ipython3",
   "version": "3.9.1"
  },
  "toc": {
   "base_numbering": 1,
   "nav_menu": {},
   "number_sections": true,
   "sideBar": true,
   "skip_h1_title": false,
   "title_cell": "Table of Contents",
   "title_sidebar": "Contents",
   "toc_cell": false,
   "toc_position": {},
   "toc_section_display": true,
   "toc_window_display": false
  }
 },
 "nbformat": 4,
 "nbformat_minor": 2
}
